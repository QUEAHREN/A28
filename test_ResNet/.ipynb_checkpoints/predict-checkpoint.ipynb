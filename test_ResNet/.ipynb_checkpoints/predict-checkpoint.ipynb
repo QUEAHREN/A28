{
 "cells": [
  {
   "cell_type": "code",
   "execution_count": null,
   "id": "f546372f",
   "metadata": {},
   "outputs": [],
   "source": []
  },
  {
   "cell_type": "code",
   "execution_count": null,
   "id": "9eb7961d",
   "metadata": {
    "ExecuteTime": {
     "end_time": "2022-04-10T07:02:50.383571Z",
     "start_time": "2022-04-10T07:02:50.383564Z"
    }
   },
   "outputs": [],
   "source": [
    "import os\n",
    "import json\n",
    "\n",
    "import cv2\n",
    "import torch\n",
    "from PIL import Image\n",
    "from torchvision import transforms\n",
    "import matplotlib.pyplot as plt\n",
    "\n",
    "from model import resnet34\n",
    "\n",
    "\n",
    "def main():\n",
    "    device = torch.device(\"cuda:0\" if torch.cuda.is_available() else \"cpu\")\n",
    "#     device = torch.device(\"cpu\")\n",
    "    data_transform = transforms.Compose(\n",
    "        [transforms.Resize(256),\n",
    "         transforms.CenterCrop(224),\n",
    "         transforms.Grayscale(1),\n",
    "         transforms.ToTensor(),\n",
    "         transforms.Normalize([0.485, 0.456, 0.406], [0.229, 0.224, 0.225])])\n",
    "\n",
    "    # load image\n",
    "    img_path = \"../test1/7.jpg\"\n",
    "    assert os.path.exists(img_path), \"file: '{}' dose not exist.\".format(img_path)\n",
    "    img = Image.open(img_path)\n",
    "#     img = cv2.imread(img_path, cv2.IMREAD_COLOR)\n",
    "    plt.imshow(img)\n",
    "#     print(len(img.split()) \n",
    "    \n",
    "    # [N, C, H, W]\n",
    "    img = data_transform(img)\n",
    "    # expand batch dimension\n",
    "    img = torch.unsqueeze(img, dim=0)\n",
    "\n",
    "    # read class_indict\n",
    "    json_path = './class_indices.json'\n",
    "    assert os.path.exists(json_path), \"file: '{}' dose not exist.\".format(json_path)\n",
    "\n",
    "    with open(json_path, \"r\") as f:\n",
    "        class_indict = json.load(f)\n",
    "\n",
    "    # create model\n",
    "    model = resnet34(num_classes=10).to(device)\n",
    "\n",
    "    # load model weights\n",
    "    weights_path = \"./resNet34.pth\"\n",
    "    assert os.path.exists(weights_path), \"file: '{}' dose not exist.\".format(weights_path)\n",
    "    model.load_state_dict(torch.load(weights_path, map_location=device))\n",
    "\n",
    "    # prediction\n",
    "    model.eval()\n",
    "    with torch.no_grad():\n",
    "        # predict class\n",
    "        output = torch.squeeze(model(img.to(device))).cpu()\n",
    "        predict = torch.softmax(output, dim=0)\n",
    "        predict_cla = torch.argmax(predict).numpy()\n",
    "\n",
    "    print_res = \"class: {}   prob: {:.3}\".format(class_indict[str(predict_cla)],\n",
    "                                                 predict[predict_cla].numpy())\n",
    "    plt.title(print_res)\n",
    "    for i in range(len(predict)):\n",
    "        print(\"class: {:10}   prob: {:.3}\".format(class_indict[str(i)],\n",
    "                                                  predict[i].numpy()))\n",
    "    plt.show()\n",
    "\n",
    "\n",
    "if __name__ == '__main__':\n",
    "    main()"
   ]
  },
  {
   "cell_type": "code",
   "execution_count": null,
   "id": "c2e6ee32",
   "metadata": {},
   "outputs": [],
   "source": []
  }
 ],
 "metadata": {
  "kernelspec": {
   "display_name": "Env_Pytorch",
   "language": "python",
   "name": "env_pytorch"
  },
  "language_info": {
   "codemirror_mode": {
    "name": "ipython",
    "version": 3
   },
   "file_extension": ".py",
   "mimetype": "text/x-python",
   "name": "python",
   "nbconvert_exporter": "python",
   "pygments_lexer": "ipython3",
   "version": "3.7.11"
  },
  "toc": {
   "base_numbering": 1,
   "nav_menu": {},
   "number_sections": true,
   "sideBar": true,
   "skip_h1_title": false,
   "title_cell": "Table of Contents",
   "title_sidebar": "Contents",
   "toc_cell": false,
   "toc_position": {},
   "toc_section_display": true,
   "toc_window_display": false
  },
  "varInspector": {
   "cols": {
    "lenName": 16,
    "lenType": 16,
    "lenVar": 40
   },
   "kernels_config": {
    "python": {
     "delete_cmd_postfix": "",
     "delete_cmd_prefix": "del ",
     "library": "var_list.py",
     "varRefreshCmd": "print(var_dic_list())"
    },
    "r": {
     "delete_cmd_postfix": ") ",
     "delete_cmd_prefix": "rm(",
     "library": "var_list.r",
     "varRefreshCmd": "cat(var_dic_list()) "
    }
   },
   "types_to_exclude": [
    "module",
    "function",
    "builtin_function_or_method",
    "instance",
    "_Feature"
   ],
   "window_display": false
  }
 },
 "nbformat": 4,
 "nbformat_minor": 5
}
