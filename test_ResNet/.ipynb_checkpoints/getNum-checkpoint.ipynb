{
 "cells": [
  {
   "cell_type": "code",
   "execution_count": 4,
   "id": "a20ad099",
   "metadata": {
    "ExecuteTime": {
     "end_time": "2022-04-11T07:30:12.091447Z",
     "start_time": "2022-04-11T07:30:11.507727Z"
    }
   },
   "outputs": [],
   "source": [
    "import cv2\n",
    "import os\n",
    "from matplotlib import pyplot as plt\n",
    "from predict import *\n",
    "from resize import resize\n",
    "from PIL import Image, ImageDraw\n",
    "\n",
    "data_path = \"/media/queahren/DATA/服务外包大赛数据更新/训练数据/img_train_折线\"\n",
    "\n",
    "# img = cv2.imread(\"./220/draw.png\")\n",
    "# gray = cv2.imread(\"./220/draw.png\", cv2.IMREAD_GRAYSCALE)\n",
    "\n",
    "def predImage(img_path):\n",
    "    assert os.path.exists(img_path), \"file: '{}' dose not exist.\".format(img_path)\n",
    "    img = Image.open(img_path)\n",
    "    return predict(img)"
   ]
  },
  {
   "cell_type": "code",
   "execution_count": 17,
   "id": "1b626300",
   "metadata": {
    "ExecuteTime": {
     "end_time": "2022-04-11T07:42:56.001729Z",
     "start_time": "2022-04-11T07:42:47.571220Z"
    }
   },
   "outputs": [
    {
     "name": "stdout",
     "output_type": "stream",
     "text": [
      "0\n"
     ]
    }
   ],
   "source": [
    "font=cv2.FONT_HERSHEY_SIMPLEX\n",
    "\n",
    "for k in range(0, 1):\n",
    "\n",
    "    path = os.path.join(data_path, \"%d\" % k, \"draw.png\")\n",
    "    img = cv2.imread(path)\n",
    "    gray = cv2.imread(path, cv2.IMREAD_GRAYSCALE)\n",
    "    bw = cv2.adaptiveThreshold(\n",
    "        gray, 255, cv2.ADAPTIVE_THRESH_GAUSSIAN_C, cv2.THRESH_BINARY_INV, 25, 25)\n",
    "    img2, ctrs, hier = cv2.findContours(\n",
    "        bw.copy(), cv2.RETR_EXTERNAL, cv2.CHAIN_APPROX_SIMPLE)\n",
    "    rects = [cv2.boundingRect(ctr) for ctr in ctrs]\n",
    "    \n",
    "    save_path = \"../data/test/\" + '%d/' % k\n",
    "    save_path_data = \"../data/test_1/\" + '%d/' % k\n",
    "    if (os.path.exists(save_path) == False):\n",
    "        os.mkdir(save_path)\n",
    "    if (os.path.exists(save_path_data) == False):\n",
    "        os.mkdir(save_path_data)    \n",
    "    print(k)\n",
    "\n",
    "    file0 = open(save_path_data + \"/data.txt\",'w+') \n",
    "    new_rects = []\n",
    "    i = 0\n",
    "    \n",
    "    for rect in rects:\n",
    "        \n",
    "        x, y, w, h = rect\n",
    "        roi = gray[y:y + h, x:x + w]\n",
    "#         print(w,h)     \n",
    "        if (w > 4 and h < 20 and h > 5):\n",
    "#             cv2.rectangle(img, (x, y), (x+w, y+h), (0, 0, 255), 1, 1, 0);\n",
    "            if w/h >= 1 and w < 22:\n",
    "                res = cv2.resize(roi, (2*w, 2*h))\n",
    "                res1 = resize(res[0:2*h, 0:w])\n",
    "                res2 = resize(res[0:2*h, w:2*w])\n",
    "                \n",
    "                cv2.imwrite(save_path + '%d.jpg' % i, (res1)) \n",
    "                num, prob = predImage(save_path + '%d.jpg' % i)\n",
    "                new_rects.append((x, y, round(w/2), h, num, i))\n",
    "                cv2.rectangle(img, (x, y), (x+round(w/2), y+h), (0, 0, 255), 1, 1, 0);\n",
    "                cv2.putText(img, '{:.0f}'.format(num), (x, y), cv2.FONT_HERSHEY_DUPLEX, h/25.0, (255, 0, 0))\n",
    "                i += 1\n",
    "                \n",
    "                cv2.imwrite(save_path + '%d.jpg' % i, (res2))\n",
    "                num, prob = predImage(save_path + '%d.jpg' % i)\n",
    "                new_rects.append((x+round(w/2), y, round(w/2), h, num, i))\n",
    "                cv2.rectangle(img, (x+round(w/2), y), (x+w, y+h), (0, 0, 255), 1, 1, 0);\n",
    "                cv2.putText(img, '{:.0f}'.format(num), (x+round(w/2), y), cv2.FONT_HERSHEY_DUPLEX, h/25.0, (255, 0, 0))\n",
    "                i += 1\n",
    "                \n",
    "            elif w < 15:               \n",
    "                cv2.rectangle(img, (x, y), (x+w, y+h), (0, 0, 255), 1, 1, 0);\n",
    "                res = resize(roi)\n",
    "                cv2.imwrite(save_path + '%d.jpg' % i, res)\n",
    "                num, prob = predImage(save_path + '%d.jpg' % i)\n",
    "                rect += tuple((num, i))\n",
    "                new_rects.append(rect)    \n",
    "                cv2.putText(img, '{:.0f}'.format(num), (x, y), cv2.FONT_HERSHEY_DUPLEX, h/25.0, (255, 0, 0))\n",
    "                i += 1\n",
    "        \n",
    "    cv2.imwrite(save_path_data + \"preview.jpeg\", img)             \n",
    "    print(new_rects, file=file0)\n",
    "    file0.close()\n",
    "    "
   ]
  },
  {
   "cell_type": "code",
   "execution_count": 23,
   "id": "6fa7426e",
   "metadata": {
    "ExecuteTime": {
     "end_time": "2022-04-11T07:56:54.294316Z",
     "start_time": "2022-04-11T07:56:54.288601Z"
    },
    "scrolled": true
   },
   "outputs": [
    {
     "name": "stdout",
     "output_type": "stream",
     "text": [
      "[(54, 288, 7, 10, 1, 18), (54, 255, 7, 10, 1, 20), (54, 221, 7, 10, 1, 22), (54, 188, 7, 10, 2, 24), (54, 154, 7, 10, 2, 26), (54, 120, 7, 10, 2, 28), (54, 87, 7, 10, 3, 30), (54, 53, 7, 10, 3, 32), (62, 356, 7, 10, 6, 15), (62, 288, 7, 10, 2, 17), (62, 255, 7, 10, 5, 19), (62, 221, 7, 10, 8, 21), (62, 154, 8, 10, 4, 25), (62, 87, 7, 10, 0, 29), (62, 53, 7, 10, 3, 31), (63, 423, 7, 10, 0, 13), (63, 389, 7, 10, 3, 14), (63, 322, 7, 10, 9, 16), (63, 188, 7, 10, 1, 23), (63, 120, 7, 10, 7, 27), (77, 438, 7, 10, 0, 12), (147, 438, 7, 10, 1, 11), (155, 438, 7, 10, 0, 10), (220, 438, 7, 10, 2, 9), (228, 438, 8, 10, 0, 8), (294, 438, 7, 10, 3, 7), (302, 438, 7, 10, 0, 6), (368, 438, 8, 10, 4, 5), (377, 438, 7, 10, 0, 4), (442, 438, 7, 10, 5, 3), (450, 438, 7, 10, 0, 2), (516, 438, 7, 10, 6, 1), (525, 438, 7, 10, 0, 0)]\n",
      "[(54, 288, 7, 10, 1, 18), (54, 255, 7, 10, 1, 20), (54, 221, 7, 10, 1, 22), (54, 188, 7, 10, 2, 24), (54, 154, 7, 10, 2, 26), (54, 120, 7, 10, 2, 28), (54, 87, 7, 10, 3, 30), (54, 53, 7, 10, 3, 32), (62, 356, 7, 10, 6, 15), (62, 288, 7, 10, 2, 17), (62, 255, 7, 10, 5, 19), (62, 221, 7, 10, 8, 21), (62, 154, 8, 10, 4, 25), (62, 87, 7, 10, 0, 29), (62, 53, 7, 10, 3, 31), (63, 423, 7, 10, 0, 13), (63, 389, 7, 10, 3, 14), (63, 322, 7, 10, 9, 16), (63, 188, 7, 10, 1, 23), (63, 120, 7, 10, 7, 27), (77, 438, 7, 10, 0, 12), (147, 438, 7, 10, 1, 11), (155, 438, 7, 10, 0, 10), (220, 438, 7, 10, 2, 9), (228, 438, 8, 10, 0, 8), (294, 438, 7, 10, 3, 7), (302, 438, 7, 10, 0, 6), (368, 438, 8, 10, 4, 5), (377, 438, 7, 10, 0, 4), (442, 438, 7, 10, 5, 3), (450, 438, 7, 10, 0, 2), (516, 438, 7, 10, 6, 1), (525, 438, 7, 10, 0, 0)]\n",
      "0\n",
      "0\n",
      "0\n",
      "0\n",
      "0\n",
      "0\n",
      "0\n",
      "8\n",
      "0\n",
      "0\n",
      "0\n",
      "0\n",
      "0\n",
      "0\n",
      "1\n",
      "0\n",
      "0\n",
      "0\n",
      "0\n",
      "14\n",
      "[(54, 288, 7, 10, 1, 18), (54, 255, 7, 10, 1, 20), (54, 221, 7, 10, 1, 22), (54, 188, 7, 10, 2, 24), (54, 154, 7, 10, 2, 26), (54, 120, 7, 10, 2, 28), (54, 87, 7, 10, 3, 30), (54, 53, 7, 10, 3, 32), (62, 356, 7, 10, 6, 15), (62, 288, 7, 10, 2, 17), (62, 255, 7, 10, 5, 19), (62, 221, 7, 10, 8, 21), (62, 154, 8, 10, 4, 25), (62, 87, 7, 10, 0, 29), (62, 53, 7, 10, 3, 31), (63, 423, 7, 10, 0, 13), (63, 389, 7, 10, 3, 14), (63, 322, 7, 10, 9, 16), (63, 188, 7, 10, 1, 23), (63, 120, 7, 10, 7, 27)]\n"
     ]
    }
   ],
   "source": [
    "\n",
    "print(new_rects)\n",
    "new_rects.sort(key=lambda tup: tup[0])  # sorts in place 原地排序\n",
    "print(new_rects) \n",
    "# 提取Y轴\n",
    "rects_y = []\n",
    "for index in range(len(new_rects)):\n",
    "    rects_y.append(new_rects[index])\n",
    "#     print(new_rects[index+1][0] - new_rects[index][0])\n",
    "    if (new_rects[index+1][0] - new_rects[index][0] > 13):\n",
    "        break\n",
    "print(rects_y) \n"
   ]
  },
  {
   "cell_type": "code",
   "execution_count": 31,
   "id": "51f67fc7",
   "metadata": {
    "ExecuteTime": {
     "end_time": "2022-04-11T08:13:54.735398Z",
     "start_time": "2022-04-11T08:13:54.732341Z"
    }
   },
   "outputs": [
    {
     "name": "stdout",
     "output_type": "stream",
     "text": [
      "[(62, 53, 7, 10, 3, 31), (54, 53, 7, 10, 3, 32), (62, 87, 7, 10, 0, 29), (54, 87, 7, 10, 3, 30), (63, 120, 7, 10, 7, 27), (54, 120, 7, 10, 2, 28), (62, 154, 8, 10, 4, 25), (54, 154, 7, 10, 2, 26), (63, 188, 7, 10, 1, 23), (54, 188, 7, 10, 2, 24), (62, 221, 7, 10, 8, 21), (54, 221, 7, 10, 1, 22), (62, 255, 7, 10, 5, 19), (54, 255, 7, 10, 1, 20), (62, 288, 7, 10, 2, 17), (54, 288, 7, 10, 1, 18), (63, 322, 7, 10, 9, 16), (62, 356, 7, 10, 6, 15), (63, 389, 7, 10, 3, 14), (63, 423, 7, 10, 0, 13)]\n"
     ]
    }
   ],
   "source": [
    "rects_y.sort(key=lambda tup: tup[1])\n",
    "print(rects_y)\n"
   ]
  },
  {
   "cell_type": "code",
   "execution_count": 34,
   "id": "9815c938",
   "metadata": {
    "ExecuteTime": {
     "end_time": "2022-04-11T08:17:16.706987Z",
     "start_time": "2022-04-11T08:17:16.701778Z"
    }
   },
   "outputs": [
    {
     "name": "stdout",
     "output_type": "stream",
     "text": [
      "[[(62, 53, 7, 10, 3, 31), (54, 53, 7, 10, 3, 32)], [(62, 87, 7, 10, 0, 29), (54, 87, 7, 10, 3, 30)], [(63, 120, 7, 10, 7, 27), (54, 120, 7, 10, 2, 28)], [(62, 154, 8, 10, 4, 25), (54, 154, 7, 10, 2, 26)], [(63, 188, 7, 10, 1, 23), (54, 188, 7, 10, 2, 24)], [(62, 221, 7, 10, 8, 21), (54, 221, 7, 10, 1, 22)], [(62, 255, 7, 10, 5, 19), (54, 255, 7, 10, 1, 20)], [(62, 288, 7, 10, 2, 17), (54, 288, 7, 10, 1, 18)], [(63, 322, 7, 10, 9, 16)], [(62, 356, 7, 10, 6, 15)], [(63, 389, 7, 10, 3, 14)], [(63, 423, 7, 10, 0, 13)]]\n"
     ]
    }
   ],
   "source": [
    "rects_y_num = []\n",
    "rect_y_num = []\n",
    "\n",
    "for index in range(0, len(rects_y)-1):\n",
    "    rect_y_num.append(rects_y[index])\n",
    "    if (rects_y[index+1][0] - rects_y[index][0] - rects_y[index][2] > 2 or rects_y[index+1][1] - rects_y[index][1] > 2):\n",
    "        rects_y_num.append(rect_y_num)\n",
    "        rect_y_num = []\n",
    "rect_y_num.append(rects_y[len(rects_y)-1])  \n",
    "rects_y_num.append(rect_y_num)\n",
    "print(rects_y_num) \n"
   ]
  },
  {
   "cell_type": "code",
   "execution_count": 41,
   "id": "b8b899ea",
   "metadata": {
    "ExecuteTime": {
     "end_time": "2022-04-11T08:21:30.893579Z",
     "start_time": "2022-04-11T08:21:30.888461Z"
    }
   },
   "outputs": [
    {
     "name": "stdout",
     "output_type": "stream",
     "text": [
      "[33, 30, 27, 24, 21, 18, 15, 12, 9, 6, 3, 0]\n"
     ]
    }
   ],
   "source": [
    "y_nums = []\n",
    "for rect_y_num in rects_y_num:\n",
    "    rect_y_num.sort(key=lambda tup: tup[0], reverse=True)\n",
    "    y_num = 0\n",
    "    for i in range(0, len(rect_y_num)):\n",
    "        y_num += rect_y_num[i][4] * pow(10, i)\n",
    "    y_nums.append(y_num)    \n",
    "print(y_nums)"
   ]
  },
  {
   "cell_type": "code",
   "execution_count": null,
   "id": "75a7bbb5",
   "metadata": {},
   "outputs": [],
   "source": []
  }
 ],
 "metadata": {
  "kernelspec": {
   "display_name": "Env_Pytorch",
   "language": "python",
   "name": "env_pytorch"
  },
  "language_info": {
   "codemirror_mode": {
    "name": "ipython",
    "version": 3
   },
   "file_extension": ".py",
   "mimetype": "text/x-python",
   "name": "python",
   "nbconvert_exporter": "python",
   "pygments_lexer": "ipython3",
   "version": "3.7.11"
  },
  "toc": {
   "base_numbering": 1,
   "nav_menu": {},
   "number_sections": true,
   "sideBar": true,
   "skip_h1_title": false,
   "title_cell": "Table of Contents",
   "title_sidebar": "Contents",
   "toc_cell": false,
   "toc_position": {},
   "toc_section_display": true,
   "toc_window_display": false
  },
  "varInspector": {
   "cols": {
    "lenName": 16,
    "lenType": 16,
    "lenVar": 40
   },
   "kernels_config": {
    "python": {
     "delete_cmd_postfix": "",
     "delete_cmd_prefix": "del ",
     "library": "var_list.py",
     "varRefreshCmd": "print(var_dic_list())"
    },
    "r": {
     "delete_cmd_postfix": ") ",
     "delete_cmd_prefix": "rm(",
     "library": "var_list.r",
     "varRefreshCmd": "cat(var_dic_list()) "
    }
   },
   "position": {
    "height": "473.844px",
    "left": "922px",
    "right": "20px",
    "top": "28px",
    "width": "486px"
   },
   "types_to_exclude": [
    "module",
    "function",
    "builtin_function_or_method",
    "instance",
    "_Feature"
   ],
   "window_display": false
  }
 },
 "nbformat": 4,
 "nbformat_minor": 5
}
