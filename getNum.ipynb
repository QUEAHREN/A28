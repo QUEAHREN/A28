{
 "cells": [
  {
   "cell_type": "code",
   "execution_count": 2,
   "id": "a20ad099",
   "metadata": {
    "ExecuteTime": {
     "end_time": "2022-04-09T14:34:38.652824Z",
     "start_time": "2022-04-09T14:34:38.649840Z"
    }
   },
   "outputs": [],
   "source": [
    "import cv2\n",
    "import os\n",
    "from matplotlib import pyplot as plt\n",
    "\n",
    "data_path = \"/media/queahren/DATA/服务外包大赛数据新/训练数据/img_折线\"\n",
    "# img = cv2.imread(\"./220/draw.png\")\n",
    "# gray = cv2.imread(\"./220/draw.png\", cv2.IMREAD_GRAYSCALE)\n"
   ]
  },
  {
   "cell_type": "code",
   "execution_count": null,
   "id": "1b626300",
   "metadata": {},
   "outputs": [],
   "source": [
    "\n",
    "i = 0\n",
    "for k in range(0, 100):\n",
    "\n",
    "    path = os.path.join(data_path, \"%d\" % k, \"draw.png\")\n",
    "    img = cv2.imread(path)\n",
    "    gray = cv2.imread(path, cv2.IMREAD_GRAYSCALE)\n",
    "    bw = cv2.adaptiveThreshold(\n",
    "        gray, 255, cv2.ADAPTIVE_THRESH_GAUSSIAN_C, cv2.THRESH_BINARY_INV, 25, 25)\n",
    "    img2, ctrs, hier = cv2.findContours(\n",
    "        bw.copy(), cv2.RETR_EXTERNAL, cv2.CHAIN_APPROX_SIMPLE)\n",
    "    rects = [cv2.boundingRect(ctr) for ctr in ctrs]\n",
    "    print(\"%d %d\"%(k, i))\n",
    "    for rect in rects:\n",
    "        x, y, w, h = rect\n",
    "        roi = gray[y:y + h, x:x + w]\n",
    "        if (w < 15 and w > 4 and h < 20 and h > 5):\n",
    "            res = resize(roi)\n",
    "            path = \"./test1/\" + '%d.jpg' % i\n",
    "            i += 1\n",
    "            cv2.imwrite(path, res)"
   ]
  },
  {
   "cell_type": "code",
   "execution_count": 5,
   "id": "0e6a9d39",
   "metadata": {
    "ExecuteTime": {
     "end_time": "2022-04-09T14:33:58.950998Z",
     "start_time": "2022-04-09T14:33:58.823089Z"
    }
   },
   "outputs": [
    {
     "name": "stdout",
     "output_type": "stream",
     "text": [
      "Using matplotlib backend: <object object at 0x7f388affbb70>\n"
     ]
    },
    {
     "data": {
      "text/plain": [
       "<matplotlib.image.AxesImage at 0x7f387e2a58d0>"
      ]
     },
     "execution_count": 5,
     "metadata": {},
     "output_type": "execute_result"
    }
   ],
   "source": [
    "for rect in rects:\n",
    "    x, y, w, h = rect\n",
    "    if (w < 15 and w > 4 and h < 20 and h > 5):\n",
    "        cv2.rectangle(img, (x, y), (x+w, y+h), (0, 0, 255), 1, 1, 0);\n",
    "        \n",
    "cv2.imwrite(\"new.png\", img)   \n",
    "%matplotlib\n",
    "plt.imshow(gray)\n",
    "# plt.imshow(img2, cmap='gray');"
   ]
  },
  {
   "cell_type": "code",
   "execution_count": 3,
   "id": "02c92f98",
   "metadata": {
    "ExecuteTime": {
     "end_time": "2022-04-09T14:04:33.410292Z",
     "start_time": "2022-04-09T14:04:33.405026Z"
    }
   },
   "outputs": [],
   "source": [
    "def resize(rawimg):\n",
    "    fx = 28.0 / rawimg.shape[0]\n",
    "    fy = 28.0 / rawimg.shape[1]\n",
    "    fx = fy = min(fx, fy)0\n",
    "    img = cv2.resize(rawimg, None, fx=fx, fy=fy, interpolation=cv2.INTER_CUBIC)\n",
    "    outimg = np.ones((28, 28), dtype=np.uint8) * 255\n",
    "    w = img.shape[1]\n",
    "    h = img.shape[0]\n",
    "    x = round((28 - w) / 2)\n",
    "    y = round((28 - h) / 2)\n",
    "    outimg[y:y+h, x:x+w] = img\n",
    "    return outimg"
   ]
  },
  {
   "cell_type": "code",
   "execution_count": 4,
   "id": "9e8f7289",
   "metadata": {
    "ExecuteTime": {
     "end_time": "2022-04-09T14:49:13.284786Z",
     "start_time": "2022-04-09T14:49:13.268290Z"
    }
   },
   "outputs": [
    {
     "data": {
      "text/plain": [
       "True"
      ]
     },
     "execution_count": 4,
     "metadata": {},
     "output_type": "execute_result"
    }
   ],
   "source": [
    "import cv2\n",
    "import os\n",
    "from matplotlib import pyplot as plt\n",
    "\n",
    "# img = cv2.imread(\"./220/draw.png\")\n",
    "# gray = cv2.imread(\"./220/draw.png\", cv2.IMREAD_GRAYSCALE)\n",
    "\n",
    "k = 17\n",
    "\n",
    "path = os.path.join(data_path, \"%d\" % k, \"draw.png\")\n",
    "img = cv2.imread(path)\n",
    "gray = cv2.imread(path, cv2.IMREAD_GRAYSCALE)\n",
    "bw = cv2.adaptiveThreshold(\n",
    "    gray, 255, cv2.ADAPTIVE_THRESH_GAUSSIAN_C, cv2.THRESH_BINARY_INV, 25, 25)\n",
    "img2, ctrs, hier = cv2.findContours(\n",
    "    bw.copy(), cv2.RETR_EXTERNAL, cv2.CHAIN_APPROX_SIMPLE)\n",
    "rects = [cv2.boundingRect(ctr) for ctr in ctrs]\n",
    "\n",
    "for rect in rects:\n",
    "    x, y, w, h = rect\n",
    "    if (w < 15 and w > 4 and h < 20 and h > 5):\n",
    "        cv2.rectangle(img, (x, y), (x+w, y+h), (0, 0, 255), 1, 1, 0)\n",
    "\n",
    "cv2.imwrite(\"new.png\", img)"
   ]
  },
  {
   "cell_type": "code",
   "execution_count": 51,
   "id": "e3acc12c",
   "metadata": {
    "ExecuteTime": {
     "end_time": "2022-04-09T13:41:32.376088Z",
     "start_time": "2022-04-09T13:41:32.372436Z"
    }
   },
   "outputs": [],
   "source": []
  },
  {
   "cell_type": "code",
   "execution_count": null,
   "id": "0088512e",
   "metadata": {},
   "outputs": [],
   "source": []
  }
 ],
 "metadata": {
  "kernelspec": {
   "display_name": "Env_Pytorch",
   "language": "python",
   "name": "env_pytorch"
  },
  "language_info": {
   "codemirror_mode": {
    "name": "ipython",
    "version": 3
   },
   "file_extension": ".py",
   "mimetype": "text/x-python",
   "name": "python",
   "nbconvert_exporter": "python",
   "pygments_lexer": "ipython3",
   "version": "3.7.11"
  },
  "toc": {
   "base_numbering": 1,
   "nav_menu": {},
   "number_sections": true,
   "sideBar": true,
   "skip_h1_title": false,
   "title_cell": "Table of Contents",
   "title_sidebar": "Contents",
   "toc_cell": false,
   "toc_position": {},
   "toc_section_display": true,
   "toc_window_display": false
  },
  "varInspector": {
   "cols": {
    "lenName": 16,
    "lenType": 16,
    "lenVar": 40
   },
   "kernels_config": {
    "python": {
     "delete_cmd_postfix": "",
     "delete_cmd_prefix": "del ",
     "library": "var_list.py",
     "varRefreshCmd": "print(var_dic_list())"
    },
    "r": {
     "delete_cmd_postfix": ") ",
     "delete_cmd_prefix": "rm(",
     "library": "var_list.r",
     "varRefreshCmd": "cat(var_dic_list()) "
    }
   },
   "position": {
    "height": "473.85px",
    "left": "879px",
    "right": "20px",
    "top": "137px",
    "width": "350px"
   },
   "types_to_exclude": [
    "module",
    "function",
    "builtin_function_or_method",
    "instance",
    "_Feature"
   ],
   "window_display": false
  }
 },
 "nbformat": 4,
 "nbformat_minor": 5
}
